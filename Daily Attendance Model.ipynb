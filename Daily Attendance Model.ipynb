{
 "cells": [
  {
   "cell_type": "code",
   "execution_count": 1,
   "id": "stuck-hormone",
   "metadata": {},
   "outputs": [],
   "source": [
    "import pandas as pd\n",
    "import numpy as np\n",
    "import difflib"
   ]
  },
  {
   "cell_type": "code",
   "execution_count": 2,
   "id": "synthetic-center",
   "metadata": {},
   "outputs": [],
   "source": [
    "# Load data scource into df\n",
    "df = pd.read_csv('WorkingPaper2.csv', sep=';')\n",
    "# df                 "
   ]
  },
  {
   "cell_type": "code",
   "execution_count": 3,
   "id": "horizontal-distributor",
   "metadata": {},
   "outputs": [
    {
     "name": "stdout",
     "output_type": "stream",
     "text": [
      "<class 'pandas.core.frame.DataFrame'>\n",
      "RangeIndex: 19784 entries, 0 to 19783\n",
      "Data columns (total 14 columns):\n",
      " #   Column                                                     Non-Null Count  Dtype \n",
      "---  ------                                                     --------------  ----- \n",
      " 0   Timestamp                                                  19784 non-null  object\n",
      " 1   Nama Lengkap Anda                                          19784 non-null  object\n",
      " 2   Divisi / Division                                          19784 non-null  object\n",
      " 3   Lokasi Absensi / Location of Attendance                    19784 non-null  object\n",
      " 4   List Pekerjaan Hari Ini / Today Work List (08.30 - 12.00)  18683 non-null  object\n",
      " 5   List Pekerjaan Hari Ini / Today Work List (13.00 - 17.30)  18670 non-null  object\n",
      " 6   Rencana Pekerjaan Besok / Work Plan Next Day               14119 non-null  object\n",
      " 7   Kendala pekerjaan pada saat WFH / Problem during WFH       19784 non-null  object\n",
      " 8   Kondisi saya saat ini / My current condition               19784 non-null  object\n",
      " 9   monthyear                                                  19784 non-null  object\n",
      " 10  ddmonthyear                                                19784 non-null  object\n",
      " 11  flag WFH / WFO                                             19784 non-null  object\n",
      " 12  flag Problem WFH                                           19784 non-null  object\n",
      " 13  flag Safe                                                  19784 non-null  object\n",
      "dtypes: object(14)\n",
      "memory usage: 2.1+ MB\n"
     ]
    }
   ],
   "source": [
    "# check data column and number of non null\n",
    "df.info()"
   ]
  },
  {
   "cell_type": "code",
   "execution_count": 4,
   "id": "interesting-moisture",
   "metadata": {},
   "outputs": [
    {
     "data": {
      "text/plain": [
       "Timestamp                                                     0.000000\n",
       "Nama Lengkap Anda                                             0.000000\n",
       "Divisi / Division                                             0.000000\n",
       "Lokasi Absensi / Location of Attendance                       0.000000\n",
       "List Pekerjaan Hari Ini / Today Work List (08.30 - 12.00)     5.565103\n",
       "List Pekerjaan Hari Ini / Today Work List (13.00 - 17.30)     5.630813\n",
       "Rencana Pekerjaan Besok / Work Plan Next Day                 28.634250\n",
       "Kendala pekerjaan pada saat WFH / Problem during WFH          0.000000\n",
       "Kondisi saya saat ini / My current condition                  0.000000\n",
       "monthyear                                                     0.000000\n",
       "ddmonthyear                                                   0.000000\n",
       "flag WFH / WFO                                                0.000000\n",
       "flag Problem WFH                                              0.000000\n",
       "flag Safe                                                     0.000000\n",
       "dtype: float64"
      ]
     },
     "execution_count": 4,
     "metadata": {},
     "output_type": "execute_result"
    }
   ],
   "source": [
    "# check percentage of null value per column\n",
    "df.isna().sum()/len(df)*100"
   ]
  },
  {
   "cell_type": "code",
   "execution_count": 5,
   "id": "dependent-hawaiian",
   "metadata": {},
   "outputs": [],
   "source": [
    "# replace null with string so that the model can run\n",
    "df.replace(np.nan, '-', inplace=True)\n",
    "# df"
   ]
  },
  {
   "cell_type": "code",
   "execution_count": 6,
   "id": "advance-stocks",
   "metadata": {},
   "outputs": [],
   "source": [
    "# check similarity for morning work list\n",
    "a = []\n",
    "b = 0\n",
    "\n",
    "for i in df['List Pekerjaan Hari Ini / Today Work List (08.30 - 12.00)']:\n",
    "    index = df.index[df[\"List Pekerjaan Hari Ini / Today Work List (08.30 - 12.00)\"] == i]\n",
    "    list_index = index.tolist()\n",
    "    df2 = pd.DataFrame(df['Nama Lengkap Anda'][list_index])\n",
    "    if i == '-':\n",
    "        b += 1\n",
    "        df2_cut = df2[b-1:b]\n",
    "        df3 = df2_cut.set_axis([0],axis=0)\n",
    "    \n",
    "        similar_or_not = (len(difflib.get_close_matches(i, df[df['Nama Lengkap Anda'] == df3['Nama Lengkap Anda'][0]]['List Pekerjaan Hari Ini / Today Work List (08.30 - 12.00)'], cutoff=0.7))>1)*1\n",
    "        a.append(similar_or_not)\n",
    "    else:\n",
    "        df2_cut = df2[0:1]\n",
    "        df3 = df2_cut.set_axis([0],axis=0)\n",
    "    \n",
    "        similar_or_not = (len(difflib.get_close_matches(i, df[df['Nama Lengkap Anda'] == df3['Nama Lengkap Anda'][0]]['List Pekerjaan Hari Ini / Today Work List (08.30 - 12.00)'], cutoff=0.7))>1)*1\n",
    "        a.append(similar_or_not)\n",
    "        \n",
    "# the result is stored in similar_or_not column: 1 for similar, 0 for not similar     \n",
    "df['similar_or_not'] = a\n",
    "# df"
   ]
  },
  {
   "cell_type": "code",
   "execution_count": 7,
   "id": "quantitative-portland",
   "metadata": {},
   "outputs": [],
   "source": [
    "# check similarity for afternoon work list\n",
    "c = []\n",
    "d = 0\n",
    "\n",
    "for i in df['List Pekerjaan Hari Ini / Today Work List (13.00 - 17.30)']:\n",
    "    index = df.index[df[\"List Pekerjaan Hari Ini / Today Work List (13.00 - 17.30)\"] == i]\n",
    "    list_index = index.tolist()\n",
    "    df2 = pd.DataFrame(df['Nama Lengkap Anda'][list_index])\n",
    "    if i == '-':\n",
    "        d += 1\n",
    "        df2_cut = df2[d-1:d]\n",
    "        df3 = df2_cut.set_axis([0],axis=0)\n",
    "    \n",
    "        similar_or_not = (len(difflib.get_close_matches(i, df[df['Nama Lengkap Anda'] == df3['Nama Lengkap Anda'][0]]['List Pekerjaan Hari Ini / Today Work List (13.00 - 17.30)'], cutoff=0.7))>1)*1\n",
    "        c.append(similar_or_not)\n",
    "    else:\n",
    "        df2_cut = df2[0:1]\n",
    "        df3 = df2_cut.set_axis([0],axis=0)\n",
    "    \n",
    "        similar_or_not = (len(difflib.get_close_matches(i, df[df['Nama Lengkap Anda'] == df3['Nama Lengkap Anda'][0]]['List Pekerjaan Hari Ini / Today Work List (13.00 - 17.30)'], cutoff=0.7))>1)*1\n",
    "        c.append(similar_or_not)\n",
    "        \n",
    "# the result is stored in similar_or_not_siang column: 1 for similar, 0 for not similar\n",
    "df['similar_or_not_siang'] = c\n",
    "# df"
   ]
  },
  {
   "cell_type": "code",
   "execution_count": 8,
   "id": "nutritional-warrant",
   "metadata": {
    "scrolled": true
   },
   "outputs": [],
   "source": [
    "# df.head(30)"
   ]
  },
  {
   "cell_type": "code",
   "execution_count": 9,
   "id": "liberal-arthritis",
   "metadata": {},
   "outputs": [],
   "source": [
    "# export df to csv for further processing\n",
    "df.to_csv (r'C:\\Users\\Anonymous\\Documents\\Daily Task\\dailytask_cutoff_0.7.csv', sep = ';', index = False, header=True)"
   ]
  },
  {
   "cell_type": "code",
   "execution_count": null,
   "id": "adverse-search",
   "metadata": {},
   "outputs": [],
   "source": []
  }
 ],
 "metadata": {
  "kernelspec": {
   "display_name": "Python 3",
   "language": "python",
   "name": "python3"
  },
  "language_info": {
   "codemirror_mode": {
    "name": "ipython",
    "version": 3
   },
   "file_extension": ".py",
   "mimetype": "text/x-python",
   "name": "python",
   "nbconvert_exporter": "python",
   "pygments_lexer": "ipython3",
   "version": "3.8.5"
  }
 },
 "nbformat": 4,
 "nbformat_minor": 5
}
